{
 "cells": [
  {
   "cell_type": "code",
   "execution_count": 1,
   "id": "3936803a",
   "metadata": {
    "execution": {
     "iopub.execute_input": "2024-04-24T23:10:45.149123Z",
     "iopub.status.busy": "2024-04-24T23:10:45.148312Z",
     "iopub.status.idle": "2024-04-24T23:10:45.160595Z",
     "shell.execute_reply": "2024-04-24T23:10:45.159605Z"
    },
    "papermill": {
     "duration": 0.021104,
     "end_time": "2024-04-24T23:10:45.162746",
     "exception": false,
     "start_time": "2024-04-24T23:10:45.141642",
     "status": "completed"
    },
    "tags": []
   },
   "outputs": [],
   "source": [
    "import warnings\n",
    "warnings.filterwarnings(\"ignore\")"
   ]
  },
  {
   "cell_type": "code",
   "execution_count": 2,
   "id": "0b9ae145",
   "metadata": {
    "execution": {
     "iopub.execute_input": "2024-04-24T23:10:45.173382Z",
     "iopub.status.busy": "2024-04-24T23:10:45.173020Z",
     "iopub.status.idle": "2024-04-24T23:11:14.421527Z",
     "shell.execute_reply": "2024-04-24T23:11:14.420241Z"
    },
    "papermill": {
     "duration": 29.25655,
     "end_time": "2024-04-24T23:11:14.424107",
     "exception": false,
     "start_time": "2024-04-24T23:10:45.167557",
     "status": "completed"
    },
    "tags": []
   },
   "outputs": [],
   "source": [
    "# Install the requiered packages to run MLFlow\n",
    "\n",
    "!pip install mlflow --quiet\n",
    "!pip install pyngrok --quiet"
   ]
  },
  {
   "cell_type": "code",
   "execution_count": 3,
   "id": "d25bd777",
   "metadata": {
    "execution": {
     "iopub.execute_input": "2024-04-24T23:11:14.435163Z",
     "iopub.status.busy": "2024-04-24T23:11:14.434771Z",
     "iopub.status.idle": "2024-04-24T23:11:23.904403Z",
     "shell.execute_reply": "2024-04-24T23:11:23.903312Z"
    },
    "papermill": {
     "duration": 9.478074,
     "end_time": "2024-04-24T23:11:23.906997",
     "exception": false,
     "start_time": "2024-04-24T23:11:14.428923",
     "status": "completed"
    },
    "tags": []
   },
   "outputs": [],
   "source": [
    "import mlflow\n",
    "import mlflow.pytorch"
   ]
  },
  {
   "cell_type": "code",
   "execution_count": 4,
   "id": "8d55a619",
   "metadata": {
    "execution": {
     "iopub.execute_input": "2024-04-24T23:11:23.918218Z",
     "iopub.status.busy": "2024-04-24T23:11:23.917608Z",
     "iopub.status.idle": "2024-04-24T23:11:36.991314Z",
     "shell.execute_reply": "2024-04-24T23:11:36.990231Z"
    },
    "papermill": {
     "duration": 13.081977,
     "end_time": "2024-04-24T23:11:36.993729",
     "exception": false,
     "start_time": "2024-04-24T23:11:23.911752",
     "status": "completed"
    },
    "tags": []
   },
   "outputs": [
    {
     "name": "stderr",
     "output_type": "stream",
     "text": [
      "/opt/conda/lib/python3.10/site-packages/pydantic/_internal/_config.py:321: UserWarning: Valid config keys have changed in V2:\n",
      "* 'schema_extra' has been renamed to 'json_schema_extra'\n",
      "  warnings.warn(message, UserWarning)\n",
      "2024-04-24 23:11:26.156117: E external/local_xla/xla/stream_executor/cuda/cuda_dnn.cc:9261] Unable to register cuDNN factory: Attempting to register factory for plugin cuDNN when one has already been registered\n",
      "2024-04-24 23:11:26.156214: E external/local_xla/xla/stream_executor/cuda/cuda_fft.cc:607] Unable to register cuFFT factory: Attempting to register factory for plugin cuFFT when one has already been registered\n",
      "2024-04-24 23:11:26.298542: E external/local_xla/xla/stream_executor/cuda/cuda_blas.cc:1515] Unable to register cuBLAS factory: Attempting to register factory for plugin cuBLAS when one has already been registered\n",
      "[2024-04-24 23:11:27 +0000] [70] [INFO] Starting gunicorn 21.2.0\n",
      "[2024-04-24 23:11:27 +0000] [70] [INFO] Listening at: http://127.0.0.1:5000 (70)\n",
      "[2024-04-24 23:11:27 +0000] [70] [INFO] Using worker: sync\n",
      "[2024-04-24 23:11:27 +0000] [71] [INFO] Booting worker with pid: 71\n",
      "[2024-04-24 23:11:27 +0000] [72] [INFO] Booting worker with pid: 72\n",
      "[2024-04-24 23:11:27 +0000] [73] [INFO] Booting worker with pid: 73\n",
      "[2024-04-24 23:11:27 +0000] [74] [INFO] Booting worker with pid: 74\n"
     ]
    }
   ],
   "source": [
    "get_ipython().system_raw(\"mlflow ui --port 5000 &\")\n",
    "mlflow.pytorch.autolog()"
   ]
  },
  {
   "cell_type": "code",
   "execution_count": 5,
   "id": "eef8f7f9",
   "metadata": {
    "execution": {
     "iopub.execute_input": "2024-04-24T23:11:37.005799Z",
     "iopub.status.busy": "2024-04-24T23:11:37.004625Z",
     "iopub.status.idle": "2024-04-24T23:11:40.995540Z",
     "shell.execute_reply": "2024-04-24T23:11:40.994156Z"
    },
    "papermill": {
     "duration": 3.999191,
     "end_time": "2024-04-24T23:11:40.997824",
     "exception": false,
     "start_time": "2024-04-24T23:11:36.998633",
     "status": "completed"
    },
    "tags": []
   },
   "outputs": [
    {
     "name": "stdout",
     "output_type": "stream",
     "text": [
      "MLflow Tracking UI: https://6a6f-34-80-28-171.ngrok-free.app\n"
     ]
    }
   ],
   "source": [
    "# IMP: please create a auth token from https://dashboard.ngrok.com/auth by creating an account. \n",
    "# the below auth ticket will not work for anyone re-running the notebook.\n",
    "    \n",
    "from pyngrok import ngrok\n",
    "from getpass import getpass\n",
    "\n",
    "# Terminate open tunnels if exist\n",
    "ngrok.kill()\n",
    "\n",
    "# Setting the authtoken (optional)\n",
    "# Get your authtoken from https://dashboard.ngrok.com/auth\n",
    "NGROK_AUTH_TOKEN = \"2ehm1xOCj5re3lx58ZLkcUkHL8S_6Bhb2ykeU2CATAre2hvPf\"\n",
    "ngrok.set_auth_token(NGROK_AUTH_TOKEN)\n",
    "\n",
    "# Open an HTTPs tunnel on port 5000 for http://localhost:5000\n",
    "ngrok_tunnel = ngrok.connect(addr=\"5000\", proto=\"http\", bind_tls=True)\n",
    "print(\"MLflow Tracking UI:\", ngrok_tunnel.public_url)"
   ]
  },
  {
   "cell_type": "code",
   "execution_count": 6,
   "id": "32ba90cd",
   "metadata": {
    "execution": {
     "iopub.execute_input": "2024-04-24T23:11:41.027311Z",
     "iopub.status.busy": "2024-04-24T23:11:41.026911Z",
     "iopub.status.idle": "2024-04-24T23:11:42.172689Z",
     "shell.execute_reply": "2024-04-24T23:11:42.171545Z"
    },
    "papermill": {
     "duration": 1.161948,
     "end_time": "2024-04-24T23:11:42.175208",
     "exception": false,
     "start_time": "2024-04-24T23:11:41.013260",
     "status": "completed"
    },
    "tags": []
   },
   "outputs": [
    {
     "name": "stdout",
     "output_type": "stream",
     "text": [
      "   site_id  patient_id    image_id laterality view   age  cancer  biopsy  \\\n",
      "0        2       10006   462822612          L   CC  61.0       0       0   \n",
      "1        2       10006  1459541791          L  MLO  61.0       0       0   \n",
      "2        2       10006  1864590858          R  MLO  61.0       0       0   \n",
      "3        2       10006  1874946579          R   CC  61.0       0       0   \n",
      "4        2       10011   220375232          L   CC  55.0       0       0   \n",
      "\n",
      "   invasive  BIRADS  implant density  machine_id  difficult_negative_case  \n",
      "0         0     NaN        0     NaN          29                    False  \n",
      "1         0     NaN        0     NaN          29                    False  \n",
      "2         0     NaN        0     NaN          29                    False  \n",
      "3         0     NaN        0     NaN          29                    False  \n",
      "4         0     0.0        0     NaN          21                     True  \n",
      "            site_id    patient_id      image_id           age        cancer  \\\n",
      "count  54706.000000  54706.000000  5.470600e+04  54669.000000  54706.000000   \n",
      "mean       1.460407  32698.865262  1.079386e+09     58.543928      0.021168   \n",
      "std        0.498434  18893.861534  6.183269e+08     10.050884      0.143944   \n",
      "min        1.000000      5.000000  6.849100e+04     26.000000      0.000000   \n",
      "25%        1.000000  16481.000000  5.458153e+08     51.000000      0.000000   \n",
      "50%        1.000000  32432.000000  1.082689e+09     59.000000      0.000000   \n",
      "75%        2.000000  48999.000000  1.613228e+09     66.000000      0.000000   \n",
      "max        2.000000  65534.000000  2.147472e+09     89.000000      1.000000   \n",
      "\n",
      "             biopsy      invasive        BIRADS       implant    machine_id  \n",
      "count  54706.000000  54706.000000  26286.000000  54706.000000  54706.000000  \n",
      "mean       0.054272      0.014953      0.772350      0.026999     54.618378  \n",
      "std        0.226556      0.121365      0.590062      0.162081     44.784800  \n",
      "min        0.000000      0.000000      0.000000      0.000000     21.000000  \n",
      "25%        0.000000      0.000000      0.000000      0.000000     29.000000  \n",
      "50%        0.000000      0.000000      1.000000      0.000000     49.000000  \n",
      "75%        0.000000      0.000000      1.000000      0.000000     49.000000  \n",
      "max        1.000000      1.000000      2.000000      1.000000    216.000000  \n",
      "site_id                        0\n",
      "patient_id                     0\n",
      "image_id                       0\n",
      "laterality                     0\n",
      "view                           0\n",
      "age                           37\n",
      "cancer                         0\n",
      "biopsy                         0\n",
      "invasive                       0\n",
      "BIRADS                     28420\n",
      "implant                        0\n",
      "density                    25236\n",
      "machine_id                     0\n",
      "difficult_negative_case        0\n",
      "dtype: int64\n"
     ]
    }
   ],
   "source": [
    "import pandas as pd\n",
    "import pydicom\n",
    "import matplotlib.pyplot as plt\n",
    "from sklearn.model_selection import train_test_split\n",
    "\n",
    "# Load the CSV data\n",
    "metadata = pd.read_csv('/kaggle/input/rsna-breast-cancer-detection/train.csv')\n",
    "\n",
    "# Basic CSV EDA\n",
    "print(metadata.head())\n",
    "print(metadata.describe())\n",
    "print(metadata.isnull().sum())"
   ]
  },
  {
   "cell_type": "code",
   "execution_count": 7,
   "id": "8a1ed06e",
   "metadata": {
    "execution": {
     "iopub.execute_input": "2024-04-24T23:11:42.201840Z",
     "iopub.status.busy": "2024-04-24T23:11:42.200956Z",
     "iopub.status.idle": "2024-04-24T23:11:47.087739Z",
     "shell.execute_reply": "2024-04-24T23:11:47.086623Z"
    },
    "papermill": {
     "duration": 4.902982,
     "end_time": "2024-04-24T23:11:47.089945",
     "exception": false,
     "start_time": "2024-04-24T23:11:42.186963",
     "status": "completed"
    },
    "tags": []
   },
   "outputs": [
    {
     "data": {
      "image/png": "[encoded data removed]",
      "text/plain": [
       "<Figure size 640x480 with 1 Axes>"
      ]
     },
     "metadata": {},
     "output_type": "display_data"
    }
   ],
   "source": [
    "# Function to load DICOM images and convert to array\n",
    "def load_dicom_image(path):\n",
    "    dicom_file = pydicom.dcmread(path)\n",
    "    return dicom_file.pixel_array\n",
    "\n",
    "# Example of loading and visualizing an image\n",
    "sample_image_path = '/kaggle/input/rsna-breast-cancer-detection/train_images/10006/1459541791.dcm'\n",
    "sample_image_array = load_dicom_image(sample_image_path)\n",
    "plt.imshow(sample_image_array, cmap='gray')\n",
    "plt.show()"
   ]
  },
  {
   "cell_type": "code",
   "execution_count": 8,
   "id": "19d9bb1f",
   "metadata": {
    "execution": {
     "iopub.execute_input": "2024-04-24T23:11:47.116585Z",
     "iopub.status.busy": "2024-04-24T23:11:47.115732Z",
     "iopub.status.idle": "2024-04-24T23:11:47.783613Z",
     "shell.execute_reply": "2024-04-24T23:11:47.782652Z"
    },
    "papermill": {
     "duration": 0.68389,
     "end_time": "2024-04-24T23:11:47.786147",
     "exception": false,
     "start_time": "2024-04-24T23:11:47.102257",
     "status": "completed"
    },
    "tags": []
   },
   "outputs": [],
   "source": [
    "def create_image_path(row, base_path='/kaggle/input/rsna-breast-cancer-detection/train_images'):\n",
    "    image_id = row['image_id']\n",
    "    patient_id = row['patient_id']\n",
    "    return f\"{base_path}/{str(patient_id).zfill(5)}/{str(image_id).zfill(8)}.dcm\"\n",
    "\n",
    "metadata['image_path'] = metadata.apply(create_image_path, axis=1)"
   ]
  },
  {
   "cell_type": "code",
   "execution_count": 9,
   "id": "3804b2b4",
   "metadata": {
    "execution": {
     "iopub.execute_input": "2024-04-24T23:11:47.813428Z",
     "iopub.status.busy": "2024-04-24T23:11:47.813031Z",
     "iopub.status.idle": "2024-04-24T23:11:47.819832Z",
     "shell.execute_reply": "2024-04-24T23:11:47.818908Z"
    },
    "papermill": {
     "duration": 0.023117,
     "end_time": "2024-04-24T23:11:47.821949",
     "exception": false,
     "start_time": "2024-04-24T23:11:47.798832",
     "status": "completed"
    },
    "tags": []
   },
   "outputs": [
    {
     "data": {
      "text/plain": [
       "'/kaggle/input/rsna-breast-cancer-detection/train_images/10006/1459541791.dcm'"
      ]
     },
     "execution_count": 9,
     "metadata": {},
     "output_type": "execute_result"
    }
   ],
   "source": [
    "metadata['image_path'][1]"
   ]
  },
  {
   "cell_type": "code",
   "execution_count": 10,
   "id": "2f65587d",
   "metadata": {
    "execution": {
     "iopub.execute_input": "2024-04-24T23:11:47.848761Z",
     "iopub.status.busy": "2024-04-24T23:11:47.847977Z",
     "iopub.status.idle": "2024-04-24T23:11:47.856025Z",
     "shell.execute_reply": "2024-04-24T23:11:47.855010Z"
    },
    "papermill": {
     "duration": 0.023711,
     "end_time": "2024-04-24T23:11:47.858356",
     "exception": false,
     "start_time": "2024-04-24T23:11:47.834645",
     "status": "completed"
    },
    "tags": []
   },
   "outputs": [
    {
     "data": {
      "text/plain": [
       "0        /kaggle/input/rsna-breast-cancer-detection/tra...\n",
       "1        /kaggle/input/rsna-breast-cancer-detection/tra...\n",
       "2        /kaggle/input/rsna-breast-cancer-detection/tra...\n",
       "3        /kaggle/input/rsna-breast-cancer-detection/tra...\n",
       "4        /kaggle/input/rsna-breast-cancer-detection/tra...\n",
       "                               ...                        \n",
       "54701    /kaggle/input/rsna-breast-cancer-detection/tra...\n",
       "54702    /kaggle/input/rsna-breast-cancer-detection/tra...\n",
       "54703    /kaggle/input/rsna-breast-cancer-detection/tra...\n",
       "54704    /kaggle/input/rsna-breast-cancer-detection/tra...\n",
       "54705    /kaggle/input/rsna-breast-cancer-detection/tra...\n",
       "Name: image_path, Length: 54706, dtype: object"
      ]
     },
     "execution_count": 10,
     "metadata": {},
     "output_type": "execute_result"
    }
   ],
   "source": [
    "metadata['image_path']"
   ]
  },
  {
   "cell_type": "code",
   "execution_count": null,
   "id": "f76ebc1a",
   "metadata": {
    "papermill": {
     "duration": 0.01196,
     "end_time": "2024-04-24T23:11:47.882724",
     "exception": false,
     "start_time": "2024-04-24T23:11:47.870764",
     "status": "completed"
    },
    "tags": []
   },
   "outputs": [],
   "source": []
  },
  {
   "cell_type": "code",
   "execution_count": null,
   "id": "fc88ff17",
   "metadata": {
    "papermill": {
     "duration": 0.012068,
     "end_time": "2024-04-24T23:11:47.907072",
     "exception": false,
     "start_time": "2024-04-24T23:11:47.895004",
     "status": "completed"
    },
    "tags": []
   },
   "outputs": [],
   "source": []
  },
  {
   "cell_type": "code",
   "execution_count": null,
   "id": "b6823b9b",
   "metadata": {
    "papermill": {
     "duration": 0.011895,
     "end_time": "2024-04-24T23:11:47.931147",
     "exception": false,
     "start_time": "2024-04-24T23:11:47.919252",
     "status": "completed"
    },
    "tags": []
   },
   "outputs": [],
   "source": []
  },
  {
   "cell_type": "code",
   "execution_count": null,
   "id": "c1a2db4a",
   "metadata": {
    "papermill": {
     "duration": 0.011766,
     "end_time": "2024-04-24T23:11:47.955068",
     "exception": false,
     "start_time": "2024-04-24T23:11:47.943302",
     "status": "completed"
    },
    "tags": []
   },
   "outputs": [],
   "source": []
  },
  {
   "cell_type": "code",
   "execution_count": null,
   "id": "528914ff",
   "metadata": {
    "papermill": {
     "duration": 0.011696,
     "end_time": "2024-04-24T23:11:47.978987",
     "exception": false,
     "start_time": "2024-04-24T23:11:47.967291",
     "status": "completed"
    },
    "tags": []
   },
   "outputs": [],
   "source": []
  },
  {
   "cell_type": "code",
   "execution_count": null,
   "id": "03f2ba1f",
   "metadata": {
    "papermill": {
     "duration": 0.015943,
     "end_time": "2024-04-24T23:11:48.009557",
     "exception": false,
     "start_time": "2024-04-24T23:11:47.993614",
     "status": "completed"
    },
    "tags": []
   },
   "outputs": [],
   "source": []
  },
  {
   "cell_type": "code",
   "execution_count": null,
   "id": "ace47343",
   "metadata": {
    "papermill": {
     "duration": 0.012239,
     "end_time": "2024-04-24T23:11:48.036242",
     "exception": false,
     "start_time": "2024-04-24T23:11:48.024003",
     "status": "completed"
    },
    "tags": []
   },
   "outputs": [],
   "source": []
  },
  {
   "cell_type": "code",
   "execution_count": null,
   "id": "2b4b7c7f",
   "metadata": {
    "papermill": {
     "duration": 0.012248,
     "end_time": "2024-04-24T23:11:48.060886",
     "exception": false,
     "start_time": "2024-04-24T23:11:48.048638",
     "status": "completed"
    },
    "tags": []
   },
   "outputs": [],
   "source": []
  },
  {
   "cell_type": "code",
   "execution_count": null,
   "id": "77eb6f82",
   "metadata": {
    "papermill": {
     "duration": 0.0126,
     "end_time": "2024-04-24T23:11:48.085914",
     "exception": false,
     "start_time": "2024-04-24T23:11:48.073314",
     "status": "completed"
    },
    "tags": []
   },
   "outputs": [],
   "source": []
  },
  {
   "cell_type": "code",
   "execution_count": null,
   "id": "f8a37035",
   "metadata": {
    "papermill": {
     "duration": 0.012239,
     "end_time": "2024-04-24T23:11:48.112120",
     "exception": false,
     "start_time": "2024-04-24T23:11:48.099881",
     "status": "completed"
    },
    "tags": []
   },
   "outputs": [],
   "source": []
  },
  {
   "cell_type": "code",
   "execution_count": null,
   "id": "39af94c6",
   "metadata": {
    "papermill": {
     "duration": 0.012111,
     "end_time": "2024-04-24T23:11:48.136764",
     "exception": false,
     "start_time": "2024-04-24T23:11:48.124653",
     "status": "completed"
    },
    "tags": []
   },
   "outputs": [],
   "source": []
  }
 ],
 "metadata": {
  "kaggle": {
   "accelerator": "none",
   "dataSources": [
    {
     "databundleVersionId": 4629629,
     "sourceId": 39272,
     "sourceType": "competition"
    }
   ],
   "dockerImageVersionId": 30664,
   "isGpuEnabled": false,
   "isInternetEnabled": true,
   "language": "python",
   "sourceType": "notebook"
  },
  "kernelspec": {
   "display_name": "Python 3",
   "language": "python",
   "name": "python3"
  },
  "language_info": {
   "codemirror_mode": {
    "name": "ipython",
    "version": 3
   },
   "file_extension": ".py",
   "mimetype": "text/x-python",
   "name": "python",
   "nbconvert_exporter": "python",
   "pygments_lexer": "ipython3",
   "version": "3.10.13"
  },
  "papermill": {
   "default_parameters": {},
   "duration": 69.044381,
   "end_time": "2024-04-24T23:11:51.481646",
   "environment_variables": {},
   "exception": null,
   "input_path": "__notebook__.ipynb",
   "output_path": "__notebook__.ipynb",
   "parameters": {},
   "start_time": "2024-04-24T23:10:42.437265",
   "version": "2.5.0"
  }
 },
 "nbformat": 4,
 "nbformat_minor": 5
}
